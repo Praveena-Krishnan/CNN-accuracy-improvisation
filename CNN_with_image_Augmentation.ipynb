{
  "nbformat": 4,
  "nbformat_minor": 0,
  "metadata": {
    "colab": {
      "provenance": [],
      "mount_file_id": "1rz33gOHVKzzcYyxZ9AWiECja6g8TLwTJ",
      "authorship_tag": "ABX9TyP6Gc00rEoJgZzKJGxAR5qO",
      "include_colab_link": true
    },
    "kernelspec": {
      "name": "python3",
      "display_name": "Python 3"
    },
    "language_info": {
      "name": "python"
    }
  },
  "cells": [
    {
      "cell_type": "markdown",
      "metadata": {
        "id": "view-in-github",
        "colab_type": "text"
      },
      "source": [
        "<a href=\"https://colab.research.google.com/github/Praveena-Krishnan/CNN-accuracy-improvisation/blob/main/CNN_with_image_Augmentation.ipynb\" target=\"_parent\"><img src=\"https://colab.research.google.com/assets/colab-badge.svg\" alt=\"Open In Colab\"/></a>"
      ]
    },
    {
      "cell_type": "code",
      "execution_count": 11,
      "metadata": {
        "id": "zyEE2rqfJZTZ"
      },
      "outputs": [],
      "source": [
        "import tensorflow as tf\n",
        "from tensorflow.keras import datasets,layers,models\n",
        "from tensorflow.keras.preprocessing.image import ImageDataGenerator\n",
        "import numpy as np\n",
        "from tensorflow.keras.preprocessing.image import load_img, img_to_array\n",
        "\n",
        "import matplotlib.pyplot as plt\n",
        "%matplotlib inline\n"
      ]
    },
    {
      "cell_type": "code",
      "source": [
        "(train_images,train_labels),(test_images,test_labels)=datasets.cifar10.load_data()"
      ],
      "metadata": {
        "id": "rRIstZhFCysh"
      },
      "execution_count": null,
      "outputs": []
    },
    {
      "cell_type": "code",
      "source": [
        "batches=['airplane','automobile','bird','cat','deer','dog','frog','horse','ship','truck']\n",
        "train_images = train_images.astype('float32') / 255.0\n",
        "test_images = test_images.astype('float32') / 255.0\n",
        "#fig size is 10x10\n",
        "plt.figure(figsize=(10,10))\n",
        "for i in range(25):\n",
        "  plt.subplot(5,5,i+1)\n",
        "  plt.xticks([])\n",
        "  plt.yticks([])\n",
        "  plt.grid(False)\n",
        "  plt.imshow(train_images[i])\n",
        "  plt.xlabel(batches[train_labels[i][0]])\n",
        "plt.show()"
      ],
      "metadata": {
        "id": "xTyvs9sEC5ki"
      },
      "execution_count": null,
      "outputs": []
    },
    {
      "cell_type": "code",
      "source": [
        "datagen = ImageDataGenerator(\n",
        "    rotation_range=20,\n",
        "    width_shift_range=0.2,\n",
        "    height_shift_range=0.2,\n",
        "    shear_range=0.2,\n",
        "    zoom_range=0.2,\n",
        "    horizontal_flip=True,\n",
        "    fill_mode='nearest'\n",
        ")\n",
        "\n",
        "model=models.Sequential()\n",
        "model.add(layers.Conv2D(32,(3,3),activation='relu',input_shape=(32,32,3)))\n",
        "model.add(layers.MaxPool2D((2,2)))\n",
        "model.add(layers.Conv2D(64,(3,3),activation='relu'))\n",
        "model.add(layers.MaxPool2D((2,2)))\n",
        "model.add(layers.Conv2D(64,(3,3),activation='relu'))\n",
        "\n",
        "\n"
      ],
      "metadata": {
        "id": "GPy0cHcYL8lY"
      },
      "execution_count": 4,
      "outputs": []
    },
    {
      "cell_type": "code",
      "source": [
        "model.summary()"
      ],
      "metadata": {
        "id": "0_zNh-SDDDiF"
      },
      "execution_count": null,
      "outputs": []
    },
    {
      "cell_type": "code",
      "source": [
        "model.add(layers.Flatten())\n",
        "model.add(layers.Dense(64,activation='relu'))\n",
        "model.add(layers.Dense(10))"
      ],
      "metadata": {
        "id": "dhucKIV-DIQf"
      },
      "execution_count": 6,
      "outputs": []
    },
    {
      "cell_type": "code",
      "source": [
        "model.summary()"
      ],
      "metadata": {
        "id": "X5fBnMB2DPDI"
      },
      "execution_count": null,
      "outputs": []
    },
    {
      "cell_type": "code",
      "source": [
        "model.compile(optimizer='adam',\n",
        "              loss=tf.keras.losses.SparseCategoricalCrossentropy(from_logits=True),\n",
        "              metrics=['accuracy'])\n",
        "\n",
        "\n",
        "batch_size = 32\n",
        "\n",
        "train_generator = datagen.flow(train_images, train_labels, batch_size=batch_size)\n",
        "\n",
        "\n",
        "modelfit = model.fit(train_generator,\n",
        "                     steps_per_epoch=len(train_images) // batch_size,\n",
        "                     epochs=10,\n",
        "                     validation_data=(test_images, test_labels))\n",
        "\n",
        "\n",
        "\n"
      ],
      "metadata": {
        "id": "O2GA5iIpDTck"
      },
      "execution_count": null,
      "outputs": []
    },
    {
      "cell_type": "code",
      "source": [
        "model.save('my_model.h5')\n",
        "\n",
        "# Load the saved model\n",
        "loaded_model = tf.keras.models.load_model('my_model.h5')"
      ],
      "metadata": {
        "id": "wmZ8WV3Z74ZP"
      },
      "execution_count": 10,
      "outputs": []
    },
    {
      "cell_type": "code",
      "source": [
        "new_image_path = '/content/dog1.jpeg'\n",
        "new_image = load_img(new_image_path, target_size=(32, 32))\n",
        "new_image_array = img_to_array(new_image) / 255.0\n",
        "new_image_array = np.expand_dims(new_image_array, axis=0)\n",
        "\n",
        "# Make predictions\n",
        "predictions = loaded_model.predict(new_image_array)\n",
        "predicted_class = np.argmax(predictions)\n",
        "\n",
        "# Define class labels\n",
        "batches = ['airplane', 'automobile', 'bird', 'cat', 'deer', 'dog', 'frog', 'horse', 'ship', 'truck']\n",
        "\n",
        "# Print the predicted class label\n",
        "print(\"Predicted class:\", batches[predicted_class])"
      ],
      "metadata": {
        "colab": {
          "base_uri": "https://localhost:8080/"
        },
        "id": "9mZy-JmaaUkQ",
        "outputId": "2683a2d1-40e2-445f-d98f-b346d7efc8c9"
      },
      "execution_count": 14,
      "outputs": [
        {
          "output_type": "stream",
          "name": "stdout",
          "text": [
            "1/1 [==============================] - 0s 26ms/step\n",
            "Predicted class: frog\n"
          ]
        }
      ]
    }
  ]
}